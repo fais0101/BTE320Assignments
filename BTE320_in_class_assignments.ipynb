{
  "cells": [
    {
      "cell_type": "markdown",
      "metadata": {
        "colab_type": "text",
        "id": "view-in-github"
      },
      "source": [
        "<a href=\"https://colab.research.google.com/github/fais0101/BTE320Assignments/blob/main/BTE320_in_class_assignments.ipynb\" target=\"_parent\"><img src=\"https://colab.research.google.com/assets/colab-badge.svg\" alt=\"Open In Colab\"/></a>"
      ]
    },
    {
      "cell_type": "markdown",
      "metadata": {
        "id": "K1uCQH_AqZt5"
      },
      "source": [
        "# **In Class Assignment 1**\n",
        "# **Cylinder Area Calculator**"
      ]
    },
    {
      "cell_type": "code",
      "execution_count": null,
      "metadata": {
        "colab": {
          "base_uri": "https://localhost:8080/"
        },
        "id": "KMzCN0fkoXn8",
        "outputId": "659bef24-a102-45d0-a8a7-5fcc4bfb658f"
      },
      "outputs": [
        {
          "name": "stdout",
          "output_type": "stream",
          "text": [
            "Enter height: 10\n",
            "Enter radius: 5\n",
            "The area of the closed cylinder is 471.23889803846896\n"
          ]
        }
      ],
      "source": [
        "import math\n",
        "pi = 3.14\n",
        "height = float(input(\"Enter height: \"))\n",
        "radius = float(input(\"Enter radius: \"))\n",
        "#2pir(r+h)\n",
        "#2 * 2pir^2\n",
        "area = (2 * math.pi * (radius ** 2) ) + (2 * math.pi * radius * height)\n",
        "\n",
        "print(f\"The area of the closed cylinder is {area}\")\n"
      ]
    },
    {
      "cell_type": "markdown",
      "metadata": {
        "id": "MHk_reJbb5WM"
      },
      "source": [
        "# **In class assignment 1/31**\n",
        "# **Numerical Calculator**"
      ]
    },
    {
      "cell_type": "code",
      "execution_count": null,
      "metadata": {
        "colab": {
          "base_uri": "https://localhost:8080/"
        },
        "id": "Urk1PFmocAFk",
        "outputId": "f352d518-c262-4cee-d7b1-96bc7837452c"
      },
      "outputs": [
        {
          "name": "stdout",
          "output_type": "stream",
          "text": [
            "Please enter an operation(+, -, *, /, //, **, %): +\n",
            "Please enter the first number: 5\n",
            "Please enter the second number: 5\n",
            "5.0 + 5.0 = 10.0\n"
          ]
        }
      ],
      "source": [
        "#input two numbers and a symbol\n",
        "\n",
        "operation = input(\"Please enter an operation(+, -, *, /, //, **, %): \")\n",
        "num1 = float(input(\"Please enter the first number: \"))\n",
        "num2 = float(input(\"Please enter the second number: \"))\n",
        "\n",
        "if operation == '+':\n",
        "  result = num1 + num2\n",
        "  print(f\"{num1} + {num2} = {result}\")\n",
        "elif operation == '-':\n",
        "  result = num1 - num2\n",
        "  print(f\"{num1} - {num2} = {result}\")\n",
        "elif operation == '*':\n",
        "  result = num1 * num2\n",
        "  print(f\"{num1} * {num2} = {result}\")\n",
        "elif operation == '/':\n",
        "  result = num1 / num2\n",
        "  print(f\"{num1} / {num2} = {result}\")\n",
        "elif operation == '//':\n",
        "  result = num1 // num2\n",
        "  print(f\"{num1} // {num2} = {result}\")\n",
        "elif operation == '**':\n",
        "  result = num1 ** num2\n",
        "  print(f\"{num1} ** {num2} = {result}\")\n",
        "elif operation == '%':\n",
        "  result = num1 % num2\n",
        "  print(f\"{num1} % {num2} = {result}\")\n",
        "\n",
        "else:\n",
        "  print(\"Invalid operation\")"
      ]
    },
    {
      "cell_type": "markdown",
      "metadata": {
        "id": "cCzV7g-kJl7b"
      },
      "source": [
        "# **Assignment 3 2/5/25**\n",
        "# **Parking Garage & Movie Theater**"
      ]
    },
    {
      "cell_type": "code",
      "execution_count": null,
      "metadata": {
        "colab": {
          "base_uri": "https://localhost:8080/"
        },
        "id": "9eZEfCRmJqLV",
        "outputId": "29d598b7-f057-4925-882f-b79bc8f10940"
      },
      "outputs": [
        {
          "name": "stdout",
          "output_type": "stream",
          "text": [
            "----Parking Garage----\n",
            "1. 10.0\n",
            "2. 10.0\n",
            "3. 12.5\n",
            "4. 15.0\n",
            "5. 17.5\n",
            "6. 20.0\n",
            "7. 20.0\n",
            "8. 20.0\n",
            "----Movie Theater----\n",
            "Ad$\tProfit\n",
            "0\t0.0\n",
            "25\t75.0\n",
            "50\t90.0\n",
            "75\t105.0\n",
            "100\t100.0\n",
            "125\t95.0\n",
            "150\t90.0\n",
            "175\t85.0\n",
            "200\t80.0\n"
          ]
        }
      ],
      "source": [
        "print(\"----Parking Garage----\")\n",
        "min_fee = 10.0\n",
        "max_fee = 20.0\n",
        "\n",
        "\n",
        "#Parking Garage\n",
        "for i in range(1,9):\n",
        "  fee = 5 + 2.5 * i\n",
        "\n",
        "  if(fee < min_fee):\n",
        "    print(f\"{i}. {min_fee}\")\n",
        "  elif(fee >= 20):\n",
        "    print(f\"{i}. {max_fee}\")\n",
        "  else:\n",
        "    print(f\"{i}. {fee}\")\n",
        "\n",
        "\n",
        "\n",
        "#Movie Theater\n",
        "print(\"----Movie Theater----\")\n",
        "ticket_price = 10.0\n",
        "print(f\"Ad$\\tProfit\")\n",
        "\n",
        "for i in range(0,201,25):\n",
        "\n",
        "  additional_attendees = 2 * round(i**0.5)\n",
        "  profit = (20 + additional_attendees) * ticket_price - 200 - i\n",
        "  print(f\"{i}\\t{profit}\")\n"
      ]
    },
    {
      "cell_type": "markdown",
      "metadata": {
        "id": "NNee3RVW4uJS"
      },
      "source": [
        "# **In class assignment 2/10**\n",
        "# **Rock-Paper-Scissors**"
      ]
    },
    {
      "cell_type": "code",
      "execution_count": null,
      "metadata": {
        "colab": {
          "base_uri": "https://localhost:8080/"
        },
        "id": "MVgIH7iZ4zup",
        "outputId": "d3e0ba5b-046a-4fc3-e9f2-e9bbc844a080"
      },
      "outputs": [
        {
          "name": "stdout",
          "output_type": "stream",
          "text": [
            "Player 1: Enter a choice (rock, paper, scissors): rock\n",
            "Player 2: Enter a choice (rock, paper, scissors): paper\n",
            "Player 2 wins!\n",
            "Play again? (y/n): y\n",
            "Player 1: Enter a choice (rock, paper, scissors): scissors\n",
            "Player 2: Enter a choice (rock, paper, scissors): paper\n",
            "Player 1 wins!\n",
            "Play again? (y/n): n\n"
          ]
        }
      ],
      "source": [
        "game_over = False\n",
        "\n",
        "\n",
        "while(not game_over):\n",
        "  p1_choice = input(\"Player 1: Enter a choice (rock, paper, scissors): \")\n",
        "  p2_choice = input(\"Player 2: Enter a choice (rock, paper, scissors): \")\n",
        "\n",
        "  if(p1_choice == 'rock' and p2_choice == 'scissors'):\n",
        "    print(\"Player 1 wins!\")\n",
        "\n",
        "  elif(p2_choice == 'rock' and p1_choice == 'scissors'):\n",
        "    print(\"Player 2 wins!\")\n",
        "\n",
        "  elif(p1_choice == 'scissors' and p2_choice == 'paper'):\n",
        "    print(\"Player 1 wins!\")\n",
        "\n",
        "  elif(p2_choice == 'scissors' and p1_choice == 'paper'):\n",
        "    print(\"Player 2 wins!\")\n",
        "\n",
        "  elif(p1_choice == 'paper' and p2_choice == 'rock'):\n",
        "    print(\"Player 1 wins!\")\n",
        "\n",
        "  elif(p2_choice == 'paper' and p1_choice == 'rock'):\n",
        "    print(\"Player 2 wins!\")\n",
        "\n",
        "  else:\n",
        "    print(\"It's a tie!\")\n",
        "\n",
        "  if input(\"Play again? (y/n): \") == 'n':\n",
        "    game_over = True\n"
      ]
    },
    {
      "cell_type": "markdown",
      "metadata": {
        "id": "gDeP_gBGiwxp"
      },
      "source": [
        "# **In class assignment 2/21**"
      ]
    },
    {
      "cell_type": "code",
      "execution_count": null,
      "metadata": {
        "colab": {
          "base_uri": "https://localhost:8080/"
        },
        "id": "2PxBri1Ci2Zo",
        "outputId": "e2fa4733-3b69-40c4-f9f0-d3bfa6c47241"
      },
      "outputs": [
        {
          "name": "stdout",
          "output_type": "stream",
          "text": [
            "{1: 'Jan', 2: 'Feb', 3: 'Mar', 4: 'Apr', 5: 'May', 6: 'Jun', 7: 'Jul', 8: 'Aug', 9: 'Sep', 10: 'Oct', 11: 'Nov', 12: 'Dec'}\n"
          ]
        }
      ],
      "source": [
        "months = {}\n",
        "\n",
        "names = [\"Jan\", \"Feb\", \"Mar\", \"Apr\", \"May\", \"Jun\", \"Jul\", \"Aug\", \"Sep\", \"Oct\", \"Nov\", \"Dec\"]\n",
        "numbers = [1,2,3,4,5,6,7,8,9,10,11,12]\n",
        "\n",
        "for i in range(len(names)):\n",
        "  months[numbers[i]] = names[i]\n",
        "\n",
        "print(months)"
      ]
    },
    {
      "cell_type": "code",
      "execution_count": null,
      "metadata": {
        "colab": {
          "base_uri": "https://localhost:8080/"
        },
        "id": "fjPpXDvhnmgS",
        "outputId": "27dda128-8c30-4dea-bd1b-1654d4687a70"
      },
      "outputs": [
        {
          "name": "stdout",
          "output_type": "stream",
          "text": [
            "Enter a new string: Hello\n",
            "{'Hello': 1}\n",
            "Enter a new string: Hi\n",
            "{'Hello': 1, 'Hi': 1}\n",
            "Enter a new string: Hi\n",
            "{'Hello': 1, 'Hi': 2}\n",
            "Enter a new string: Hello\n",
            "{'Hello': 2, 'Hi': 2}\n",
            "Enter a new string: awd\n",
            "{'Hello': 2, 'Hi': 2, 'awd': 1}\n",
            "Enter a new string: awd\n",
            "{'Hello': 2, 'Hi': 2, 'awd': 2}\n",
            "Enter a new string: awd\n",
            "{'Hello': 2, 'Hi': 2, 'awd': 3}\n",
            "Enter a new string: awd\n",
            "{'Hello': 2, 'Hi': 2, 'awd': 4}\n",
            "Enter a new string: awd\n",
            "{'Hello': 2, 'Hi': 2, 'awd': 5}\n",
            "Enter a new string: ok\n",
            "{'Hello': 2, 'Hi': 2, 'awd': 5, 'ok': 1}\n",
            "Enter a new string: bye\n",
            "{'Hello': 2, 'Hi': 2, 'awd': 5, 'ok': 1, 'bye': 1}\n",
            "\n",
            "\n",
            "\n",
            "{'Hello': 2, 'Hi': 2, 'awd': 5, 'ok': 1, 'bye': 1}\n"
          ]
        }
      ],
      "source": [
        "#Build a dictionary dynamically\n",
        "counts = {}\n",
        "\n",
        "while len(counts) < 5:\n",
        "  response = input(\"Enter a string: \")\n",
        "\n",
        "  if response in counts.keys():\n",
        "    counts[response] += 1\n",
        "  else:\n",
        "    counts[response] = 1\n",
        "\n",
        "  print(counts)\n",
        "\n",
        "\n",
        "print(f\"\\n\\n\\n{counts}\")"
      ]
    },
    {
      "cell_type": "markdown",
      "metadata": {
        "id": "AlA4ofeIXrjY"
      },
      "source": [
        "# **In Class assignment 2/26**"
      ]
    },
    {
      "cell_type": "code",
      "execution_count": 1,
      "metadata": {
        "id": "51nbWxZFXuyd"
      },
      "outputs": [],
      "source": [
        "# 5 + 2.50 for each hour parked\n",
        "# write a program that prompts uer for number of hours parked\n",
        "#calculates and displays the parking fee charged"
      ]
    },
    {
      "cell_type": "code",
      "execution_count": 3,
      "metadata": {
        "colab": {
          "base_uri": "https://localhost:8080/"
        },
        "id": "jXrOeC-aX5gU",
        "outputId": "427b0878-12cb-45e4-eef0-474803218f92"
      },
      "outputs": [
        {
          "name": "stdout",
          "output_type": "stream",
          "text": [
            "Parking fee: $17.5\n"
          ]
        }
      ],
      "source": [
        "def calculate_fee(hours_parked):\n",
        "  fee = 5 + (2.5 * hours_parked)\n",
        "  return fee\n",
        "\n",
        "\n",
        "\n",
        "\n",
        "hours_parked = int(input(\"Enter hours parked: \"))\n",
        "fee = calculate_fee(hours_parked)\n",
        "print(f\"Parking fee: ${fee}\")"
      ]
    },
    {
      "cell_type": "markdown",
      "metadata": {},
      "source": [
        "# **In Class Assignment 4/7**"
      ]
    },
    {
      "cell_type": "code",
      "execution_count": 8,
      "metadata": {},
      "outputs": [
        {
          "name": "stdout",
          "output_type": "stream",
          "text": [
            "Hello Faisal Sayed\n",
            "Faisal, Sayed\n"
          ]
        }
      ],
      "source": [
        "class Greeting:\n",
        "    def __init__(self, first, last):\n",
        "        self.first = first\n",
        "        self.last = last\n",
        "\n",
        "    def __str__(self):\n",
        "        return f\"{self.first}, {self.last}\"\n",
        "    \n",
        "\n",
        "    def display(self, formal=False):\n",
        "\n",
        "        if formal:\n",
        "            print(f'Hello {self.first} {self.last}')\n",
        "        else:\n",
        "            print(f\"Hi, {self.first}!\")\n",
        "\n",
        "\n",
        "greeting = Greeting(first='Faisal', last='Sayed')\n",
        "greeting.display(formal=True)\n",
        "print(greeting)"
      ]
    },
    {
      "cell_type": "markdown",
      "metadata": {},
      "source": [
        "# **In class assignment 4/11**"
      ]
    },
    {
      "cell_type": "code",
      "execution_count": null,
      "metadata": {},
      "outputs": [
        {
          "name": "stdout",
          "output_type": "stream",
          "text": [
            "Faisal Sayed\n",
            "James Bond\n",
            "name: Faisal Sayed, number: 123, courses: []\n",
            "name: James Bond, number: 700, courses: []\n",
            "Success Faisal Sayed, you have been enrolled in BTE320\n",
            "Success James Bond, you have been enrolled in BTE320\n",
            "Error: student previously enrolled in course: BTE320\n",
            "Success James Bond, you have been enrolled in BTE412\n",
            "Success Faisal Sayed, you have been enrolled in BTE420\n",
            "Success James Bond, you have been enrolled in BTE420\n",
            "name: Faisal Sayed, number: 123, courses: ['BTE320', 'BTE420']\n",
            "name: James Bond, number: 700, courses: ['BTE320', 'BTE412', 'BTE420']\n",
            "['BTE320', 'BTE420']\n"
          ]
        }
      ],
      "source": [
        "class Student:\n",
        "\n",
        "    def __init__(self, name:str, number: int):\n",
        "        self.name = name\n",
        "        self.number = number\n",
        "        self.courses = []\n",
        "    \n",
        "    def __str__(self):\n",
        "        return f\"name: {self.name}, number: {self.number}, courses: {self.courses}\"\n",
        "    \n",
        "    def enroll(self):\n",
        "\n",
        "        course = input(f\"{self.name}, Please enter course to enroll: \")\n",
        "\n",
        "        if course in self.courses:\n",
        "            print(f\"Error: student previously enrolled in course: {course}\")\n",
        "        else:\n",
        "            self.courses.append(course)\n",
        "            print(f\"Success {self.name}, you have been enrolled in {course}\")\n",
        "    \n",
        "    def get_courses(self):\n",
        "        return self.courses\n",
        "\n",
        "\n",
        "s1 = Student(\"Faisal Sayed\", 123)\n",
        "s2 = Student(\"James Bond\", 700)\n",
        "\n",
        "\n",
        "#print name by accessing class attribute\n",
        "print(s1.name)\n",
        "print(s2.name)\n",
        "#__str__ function\n",
        "print(s1)\n",
        "print(s2)\n",
        "\n",
        "#test logic with loop\n",
        "for i in range(3):\n",
        "    s1.enroll()\n",
        "    s2.enroll()\n",
        "\n",
        "print(s1)\n",
        "print(s2)\n",
        "print(s1.get_courses())\n",
        "\n",
        "\n",
        "\n"
      ]
    },
    {
      "cell_type": "markdown",
      "metadata": {},
      "source": [
        "# **In Class Assignment 4/14**"
      ]
    },
    {
      "cell_type": "code",
      "execution_count": 18,
      "metadata": {},
      "outputs": [
        {
          "name": "stdout",
          "output_type": "stream",
          "text": [
            "Distance: 6.4031242374328485\n"
          ]
        }
      ],
      "source": [
        "import math\n",
        "class Point:\n",
        "\n",
        "    def __init__(self, x: int, y: int):\n",
        "        self.x = x\n",
        "        self.y = y\n",
        "    \n",
        "    def calculate_distance(self, other):\n",
        "        \n",
        "        x_diff = self.x - other.x\n",
        "        y_diff = self.y - other.y\n",
        "        distance = math.sqrt(x_diff**2 + y_diff**2)\n",
        "\n",
        "        return distance\n",
        "\n",
        "a = Point(-2,-3)\n",
        "b = Point(3,1)\n",
        "print(f\"Distance: {a.calculate_distance(b)}\")"
      ]
    },
    {
      "cell_type": "code",
      "execution_count": 19,
      "metadata": {},
      "outputs": [
        {
          "name": "stdout",
          "output_type": "stream",
          "text": [
            "Height: 2.0\n",
            "Width: 2.0\n",
            "Area: 4.0\n"
          ]
        }
      ],
      "source": [
        "class Rectangle:\n",
        "\n",
        "    def __init__(self):\n",
        "        self.corner_1 = Point(0, 0)\n",
        "        self.corner_2 = Point(0, 2)\n",
        "        self.corner_3 = Point(2, 0)\n",
        "        self.corner_4 = Point(2, 2)\n",
        "    \n",
        "\n",
        "    def calculate_width(self):\n",
        "        return self.corner_1.calculate_distance(self.corner_2)\n",
        "    \n",
        "    def calculate_height(self):\n",
        "        return self.corner_3.calculate_distance(self.corner_4)\n",
        "    \n",
        "    def calc_area(self):\n",
        "        return self.calculate_height() * self.calculate_width()\n",
        "    \n",
        "\n",
        "\n",
        "square = Rectangle()\n",
        "print(f\"Height: {square.calculate_height()}\\nWidth: {square.calculate_width()}\\nArea: {square.calc_area()}\")\n",
        "    \n",
        "\n",
        "    \n",
        "\n",
        "\n"
      ]
    }
  ],
  "metadata": {
    "colab": {
      "authorship_tag": "ABX9TyNArgjQ1SLF8/8MYnwKQkT7",
      "include_colab_link": true,
      "provenance": [],
      "toc_visible": true
    },
    "kernelspec": {
      "display_name": "Python 3",
      "name": "python3"
    },
    "language_info": {
      "codemirror_mode": {
        "name": "ipython",
        "version": 3
      },
      "file_extension": ".py",
      "mimetype": "text/x-python",
      "name": "python",
      "nbconvert_exporter": "python",
      "pygments_lexer": "ipython3",
      "version": "3.12.3"
    }
  },
  "nbformat": 4,
  "nbformat_minor": 0
}
