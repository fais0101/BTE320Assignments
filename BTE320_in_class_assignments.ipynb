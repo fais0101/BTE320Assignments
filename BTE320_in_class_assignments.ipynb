{
  "nbformat": 4,
  "nbformat_minor": 0,
  "metadata": {
    "colab": {
      "provenance": [],
      "toc_visible": true,
      "authorship_tag": "ABX9TyOKkaZdGcUYr6/XUD+SxEHG",
      "include_colab_link": true
    },
    "kernelspec": {
      "name": "python3",
      "display_name": "Python 3"
    },
    "language_info": {
      "name": "python"
    }
  },
  "cells": [
    {
      "cell_type": "markdown",
      "metadata": {
        "id": "view-in-github",
        "colab_type": "text"
      },
      "source": [
        "<a href=\"https://colab.research.google.com/github/fais0101/BTE320Assignments/blob/main/BTE320_in_class_assignments.ipynb\" target=\"_parent\"><img src=\"https://colab.research.google.com/assets/colab-badge.svg\" alt=\"Open In Colab\"/></a>"
      ]
    },
    {
      "cell_type": "markdown",
      "source": [
        "# **In Class Assignment 1**"
      ],
      "metadata": {
        "id": "K1uCQH_AqZt5"
      }
    },
    {
      "cell_type": "code",
      "execution_count": null,
      "metadata": {
        "colab": {
          "base_uri": "https://localhost:8080/"
        },
        "id": "KMzCN0fkoXn8",
        "outputId": "659bef24-a102-45d0-a8a7-5fcc4bfb658f"
      },
      "outputs": [
        {
          "output_type": "stream",
          "name": "stdout",
          "text": [
            "Enter height: 10\n",
            "Enter radius: 5\n",
            "The area of the closed cylinder is 471.23889803846896\n"
          ]
        }
      ],
      "source": [
        "import math\n",
        "pi = 3.14\n",
        "height = float(input(\"Enter height: \"))\n",
        "radius = float(input(\"Enter radius: \"))\n",
        "#2pir(r+h)\n",
        "#2 * 2pir^2\n",
        "area = (2 * math.pi * (radius ** 2) ) + (2 * math.pi * radius * height)\n",
        "\n",
        "print(f\"The area of the closed cylinder is {area}\")\n"
      ]
    },
    {
      "cell_type": "markdown",
      "source": [
        "# **In class assignment 1/31**\n",
        "Calculator"
      ],
      "metadata": {
        "id": "MHk_reJbb5WM"
      }
    },
    {
      "cell_type": "code",
      "source": [
        "#input two numbers and a symbol\n",
        "\n",
        "operation = input(\"Please enter an operation(+, -, *, /, //, **, %): \")\n",
        "num1 = float(input(\"Please enter the first number: \"))\n",
        "num2 = float(input(\"Please enter the second number: \"))\n",
        "\n",
        "if operation == '+':\n",
        "  result = num1 + num2\n",
        "  print(f\"{num1} + {num2} = {result}\")\n",
        "elif operation == '-':\n",
        "  result = num1 - num2\n",
        "  print(f\"{num1} - {num2} = {result}\")\n",
        "elif operation == '*':\n",
        "  result = num1 * num2\n",
        "  print(f\"{num1} * {num2} = {result}\")\n",
        "elif operation == '/':\n",
        "  result = num1 / num2\n",
        "  print(f\"{num1} / {num2} = {result}\")\n",
        "elif operation == '//':\n",
        "  result = num1 // num2\n",
        "  print(f\"{num1} // {num2} = {result}\")\n",
        "elif operation == '**':\n",
        "  result = num1 ** num2\n",
        "  print(f\"{num1} ** {num2} = {result}\")\n",
        "elif operation == '%':\n",
        "  result = num1 % num2\n",
        "  print(f\"{num1} % {num2} = {result}\")\n",
        "\n",
        "else:\n",
        "  print(\"Invalid operation\")"
      ],
      "metadata": {
        "colab": {
          "base_uri": "https://localhost:8080/"
        },
        "id": "Urk1PFmocAFk",
        "outputId": "f352d518-c262-4cee-d7b1-96bc7837452c"
      },
      "execution_count": null,
      "outputs": [
        {
          "output_type": "stream",
          "name": "stdout",
          "text": [
            "Please enter an operation(+, -, *, /, //, **, %): +\n",
            "Please enter the first number: 5\n",
            "Please enter the second number: 5\n",
            "5.0 + 5.0 = 10.0\n"
          ]
        }
      ]
    },
    {
      "cell_type": "markdown",
      "source": [
        "# **Assignment 3 2/5/25**"
      ],
      "metadata": {
        "id": "cCzV7g-kJl7b"
      }
    },
    {
      "cell_type": "code",
      "source": [
        "print(\"----Parking Garage----\")\n",
        "min_fee = 10.0\n",
        "max_fee = 20.0\n",
        "\n",
        "\n",
        "#Parking Garage\n",
        "for i in range(1,9):\n",
        "  fee = 5 + 2.5 * i\n",
        "\n",
        "  if(fee < min_fee):\n",
        "    print(f\"{i}. {min_fee}\")\n",
        "  elif(fee >= 20):\n",
        "    print(f\"{i}. {max_fee}\")\n",
        "  else:\n",
        "    print(f\"{i}. {fee}\")\n",
        "\n",
        "\n",
        "\n",
        "#Movie Theater\n",
        "print(\"----Movie Theater----\")\n",
        "ticket_price = 10.0\n",
        "print(f\"Ad$\\tProfit\")\n",
        "\n",
        "for i in range(0,201,25):\n",
        "\n",
        "  additional_attendees = 2 * round(i**0.5)\n",
        "  profit = (20 + additional_attendees) * ticket_price - 200 - i\n",
        "  print(f\"{i}\\t{profit}\")\n"
      ],
      "metadata": {
        "colab": {
          "base_uri": "https://localhost:8080/"
        },
        "id": "9eZEfCRmJqLV",
        "outputId": "29d598b7-f057-4925-882f-b79bc8f10940"
      },
      "execution_count": 20,
      "outputs": [
        {
          "output_type": "stream",
          "name": "stdout",
          "text": [
            "----Parking Garage----\n",
            "1. 10.0\n",
            "2. 10.0\n",
            "3. 12.5\n",
            "4. 15.0\n",
            "5. 17.5\n",
            "6. 20.0\n",
            "7. 20.0\n",
            "8. 20.0\n",
            "----Movie Theater----\n",
            "Ad$\tProfit\n",
            "0\t0.0\n",
            "25\t75.0\n",
            "50\t90.0\n",
            "75\t105.0\n",
            "100\t100.0\n",
            "125\t95.0\n",
            "150\t90.0\n",
            "175\t85.0\n",
            "200\t80.0\n"
          ]
        }
      ]
    }
  ]
}