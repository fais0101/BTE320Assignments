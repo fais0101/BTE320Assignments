{
  "nbformat": 4,
  "nbformat_minor": 0,
  "metadata": {
    "colab": {
      "provenance": [],
      "toc_visible": true,
      "authorship_tag": "ABX9TyNArgjQ1SLF8/8MYnwKQkT7",
      "include_colab_link": true
    },
    "kernelspec": {
      "name": "python3",
      "display_name": "Python 3"
    },
    "language_info": {
      "name": "python"
    }
  },
  "cells": [
    {
      "cell_type": "markdown",
      "metadata": {
        "id": "view-in-github",
        "colab_type": "text"
      },
      "source": [
        "<a href=\"https://colab.research.google.com/github/fais0101/BTE320Assignments/blob/main/BTE320_in_class_assignments.ipynb\" target=\"_parent\"><img src=\"https://colab.research.google.com/assets/colab-badge.svg\" alt=\"Open In Colab\"/></a>"
      ]
    },
    {
      "cell_type": "markdown",
      "source": [
        "# **In Class Assignment 1**\n",
        "# **Cylinder Area Calculator**"
      ],
      "metadata": {
        "id": "K1uCQH_AqZt5"
      }
    },
    {
      "cell_type": "code",
      "execution_count": null,
      "metadata": {
        "colab": {
          "base_uri": "https://localhost:8080/"
        },
        "id": "KMzCN0fkoXn8",
        "outputId": "659bef24-a102-45d0-a8a7-5fcc4bfb658f"
      },
      "outputs": [
        {
          "output_type": "stream",
          "name": "stdout",
          "text": [
            "Enter height: 10\n",
            "Enter radius: 5\n",
            "The area of the closed cylinder is 471.23889803846896\n"
          ]
        }
      ],
      "source": [
        "import math\n",
        "pi = 3.14\n",
        "height = float(input(\"Enter height: \"))\n",
        "radius = float(input(\"Enter radius: \"))\n",
        "#2pir(r+h)\n",
        "#2 * 2pir^2\n",
        "area = (2 * math.pi * (radius ** 2) ) + (2 * math.pi * radius * height)\n",
        "\n",
        "print(f\"The area of the closed cylinder is {area}\")\n"
      ]
    },
    {
      "cell_type": "markdown",
      "source": [
        "# **In class assignment 1/31**\n",
        "# **Numerical Calculator**"
      ],
      "metadata": {
        "id": "MHk_reJbb5WM"
      }
    },
    {
      "cell_type": "code",
      "source": [
        "#input two numbers and a symbol\n",
        "\n",
        "operation = input(\"Please enter an operation(+, -, *, /, //, **, %): \")\n",
        "num1 = float(input(\"Please enter the first number: \"))\n",
        "num2 = float(input(\"Please enter the second number: \"))\n",
        "\n",
        "if operation == '+':\n",
        "  result = num1 + num2\n",
        "  print(f\"{num1} + {num2} = {result}\")\n",
        "elif operation == '-':\n",
        "  result = num1 - num2\n",
        "  print(f\"{num1} - {num2} = {result}\")\n",
        "elif operation == '*':\n",
        "  result = num1 * num2\n",
        "  print(f\"{num1} * {num2} = {result}\")\n",
        "elif operation == '/':\n",
        "  result = num1 / num2\n",
        "  print(f\"{num1} / {num2} = {result}\")\n",
        "elif operation == '//':\n",
        "  result = num1 // num2\n",
        "  print(f\"{num1} // {num2} = {result}\")\n",
        "elif operation == '**':\n",
        "  result = num1 ** num2\n",
        "  print(f\"{num1} ** {num2} = {result}\")\n",
        "elif operation == '%':\n",
        "  result = num1 % num2\n",
        "  print(f\"{num1} % {num2} = {result}\")\n",
        "\n",
        "else:\n",
        "  print(\"Invalid operation\")"
      ],
      "metadata": {
        "colab": {
          "base_uri": "https://localhost:8080/"
        },
        "id": "Urk1PFmocAFk",
        "outputId": "f352d518-c262-4cee-d7b1-96bc7837452c"
      },
      "execution_count": null,
      "outputs": [
        {
          "output_type": "stream",
          "name": "stdout",
          "text": [
            "Please enter an operation(+, -, *, /, //, **, %): +\n",
            "Please enter the first number: 5\n",
            "Please enter the second number: 5\n",
            "5.0 + 5.0 = 10.0\n"
          ]
        }
      ]
    },
    {
      "cell_type": "markdown",
      "source": [
        "# **Assignment 3 2/5/25**\n",
        "# **Parking Garage & Movie Theater**"
      ],
      "metadata": {
        "id": "cCzV7g-kJl7b"
      }
    },
    {
      "cell_type": "code",
      "source": [
        "print(\"----Parking Garage----\")\n",
        "min_fee = 10.0\n",
        "max_fee = 20.0\n",
        "\n",
        "\n",
        "#Parking Garage\n",
        "for i in range(1,9):\n",
        "  fee = 5 + 2.5 * i\n",
        "\n",
        "  if(fee < min_fee):\n",
        "    print(f\"{i}. {min_fee}\")\n",
        "  elif(fee >= 20):\n",
        "    print(f\"{i}. {max_fee}\")\n",
        "  else:\n",
        "    print(f\"{i}. {fee}\")\n",
        "\n",
        "\n",
        "\n",
        "#Movie Theater\n",
        "print(\"----Movie Theater----\")\n",
        "ticket_price = 10.0\n",
        "print(f\"Ad$\\tProfit\")\n",
        "\n",
        "for i in range(0,201,25):\n",
        "\n",
        "  additional_attendees = 2 * round(i**0.5)\n",
        "  profit = (20 + additional_attendees) * ticket_price - 200 - i\n",
        "  print(f\"{i}\\t{profit}\")\n"
      ],
      "metadata": {
        "colab": {
          "base_uri": "https://localhost:8080/"
        },
        "id": "9eZEfCRmJqLV",
        "outputId": "29d598b7-f057-4925-882f-b79bc8f10940"
      },
      "execution_count": null,
      "outputs": [
        {
          "output_type": "stream",
          "name": "stdout",
          "text": [
            "----Parking Garage----\n",
            "1. 10.0\n",
            "2. 10.0\n",
            "3. 12.5\n",
            "4. 15.0\n",
            "5. 17.5\n",
            "6. 20.0\n",
            "7. 20.0\n",
            "8. 20.0\n",
            "----Movie Theater----\n",
            "Ad$\tProfit\n",
            "0\t0.0\n",
            "25\t75.0\n",
            "50\t90.0\n",
            "75\t105.0\n",
            "100\t100.0\n",
            "125\t95.0\n",
            "150\t90.0\n",
            "175\t85.0\n",
            "200\t80.0\n"
          ]
        }
      ]
    },
    {
      "cell_type": "markdown",
      "source": [
        "# **In class assignment 2/10**\n",
        "# **Rock-Paper-Scissors**"
      ],
      "metadata": {
        "id": "NNee3RVW4uJS"
      }
    },
    {
      "cell_type": "code",
      "source": [
        "game_over = False\n",
        "\n",
        "\n",
        "while(not game_over):\n",
        "  p1_choice = input(\"Player 1: Enter a choice (rock, paper, scissors): \")\n",
        "  p2_choice = input(\"Player 2: Enter a choice (rock, paper, scissors): \")\n",
        "\n",
        "  if(p1_choice == 'rock' and p2_choice == 'scissors'):\n",
        "    print(\"Player 1 wins!\")\n",
        "\n",
        "  elif(p2_choice == 'rock' and p1_choice == 'scissors'):\n",
        "    print(\"Player 2 wins!\")\n",
        "\n",
        "  elif(p1_choice == 'scissors' and p2_choice == 'paper'):\n",
        "    print(\"Player 1 wins!\")\n",
        "\n",
        "  elif(p2_choice == 'scissors' and p1_choice == 'paper'):\n",
        "    print(\"Player 2 wins!\")\n",
        "\n",
        "  elif(p1_choice == 'paper' and p2_choice == 'rock'):\n",
        "    print(\"Player 1 wins!\")\n",
        "\n",
        "  elif(p2_choice == 'paper' and p1_choice == 'rock'):\n",
        "    print(\"Player 2 wins!\")\n",
        "\n",
        "  else:\n",
        "    print(\"It's a tie!\")\n",
        "\n",
        "  if input(\"Play again? (y/n): \") == 'n':\n",
        "    game_over = True\n"
      ],
      "metadata": {
        "colab": {
          "base_uri": "https://localhost:8080/"
        },
        "id": "MVgIH7iZ4zup",
        "outputId": "d3e0ba5b-046a-4fc3-e9f2-e9bbc844a080"
      },
      "execution_count": null,
      "outputs": [
        {
          "name": "stdout",
          "output_type": "stream",
          "text": [
            "Player 1: Enter a choice (rock, paper, scissors): rock\n",
            "Player 2: Enter a choice (rock, paper, scissors): paper\n",
            "Player 2 wins!\n",
            "Play again? (y/n): y\n",
            "Player 1: Enter a choice (rock, paper, scissors): scissors\n",
            "Player 2: Enter a choice (rock, paper, scissors): paper\n",
            "Player 1 wins!\n",
            "Play again? (y/n): n\n"
          ]
        }
      ]
    },
    {
      "cell_type": "markdown",
      "source": [
        "# **In class assignment 2/21**"
      ],
      "metadata": {
        "id": "gDeP_gBGiwxp"
      }
    },
    {
      "cell_type": "code",
      "source": [
        "months = {}\n",
        "\n",
        "names = [\"Jan\", \"Feb\", \"Mar\", \"Apr\", \"May\", \"Jun\", \"Jul\", \"Aug\", \"Sep\", \"Oct\", \"Nov\", \"Dec\"]\n",
        "numbers = [1,2,3,4,5,6,7,8,9,10,11,12]\n",
        "\n",
        "for i in range(len(names)):\n",
        "  months[numbers[i]] = names[i]\n",
        "\n",
        "print(months)"
      ],
      "metadata": {
        "colab": {
          "base_uri": "https://localhost:8080/"
        },
        "id": "2PxBri1Ci2Zo",
        "outputId": "e2fa4733-3b69-40c4-f9f0-d3bfa6c47241"
      },
      "execution_count": null,
      "outputs": [
        {
          "output_type": "stream",
          "name": "stdout",
          "text": [
            "{1: 'Jan', 2: 'Feb', 3: 'Mar', 4: 'Apr', 5: 'May', 6: 'Jun', 7: 'Jul', 8: 'Aug', 9: 'Sep', 10: 'Oct', 11: 'Nov', 12: 'Dec'}\n"
          ]
        }
      ]
    },
    {
      "cell_type": "code",
      "source": [
        "#Build a dictionary dynamically\n",
        "counts = {}\n",
        "\n",
        "while len(counts) < 5:\n",
        "  response = input(\"Enter a string: \")\n",
        "\n",
        "  if response in counts.keys():\n",
        "    counts[response] += 1\n",
        "  else:\n",
        "    counts[response] = 1\n",
        "\n",
        "  print(counts)\n",
        "\n",
        "\n",
        "print(f\"\\n\\n\\n{counts}\")"
      ],
      "metadata": {
        "colab": {
          "base_uri": "https://localhost:8080/"
        },
        "id": "fjPpXDvhnmgS",
        "outputId": "27dda128-8c30-4dea-bd1b-1654d4687a70"
      },
      "execution_count": null,
      "outputs": [
        {
          "output_type": "stream",
          "name": "stdout",
          "text": [
            "Enter a new string: Hello\n",
            "{'Hello': 1}\n",
            "Enter a new string: Hi\n",
            "{'Hello': 1, 'Hi': 1}\n",
            "Enter a new string: Hi\n",
            "{'Hello': 1, 'Hi': 2}\n",
            "Enter a new string: Hello\n",
            "{'Hello': 2, 'Hi': 2}\n",
            "Enter a new string: awd\n",
            "{'Hello': 2, 'Hi': 2, 'awd': 1}\n",
            "Enter a new string: awd\n",
            "{'Hello': 2, 'Hi': 2, 'awd': 2}\n",
            "Enter a new string: awd\n",
            "{'Hello': 2, 'Hi': 2, 'awd': 3}\n",
            "Enter a new string: awd\n",
            "{'Hello': 2, 'Hi': 2, 'awd': 4}\n",
            "Enter a new string: awd\n",
            "{'Hello': 2, 'Hi': 2, 'awd': 5}\n",
            "Enter a new string: ok\n",
            "{'Hello': 2, 'Hi': 2, 'awd': 5, 'ok': 1}\n",
            "Enter a new string: bye\n",
            "{'Hello': 2, 'Hi': 2, 'awd': 5, 'ok': 1, 'bye': 1}\n",
            "\n",
            "\n",
            "\n",
            "{'Hello': 2, 'Hi': 2, 'awd': 5, 'ok': 1, 'bye': 1}\n"
          ]
        }
      ]
    },
    {
      "cell_type": "markdown",
      "source": [
        "# **In Class assignment 2/26**"
      ],
      "metadata": {
        "id": "AlA4ofeIXrjY"
      }
    },
    {
      "cell_type": "code",
      "source": [
        "# 5 + 2.50 for each hour parked\n",
        "# write a program that prompts uer for number of hours parked\n",
        "#calculates and displays the parking fee charged"
      ],
      "metadata": {
        "id": "51nbWxZFXuyd"
      },
      "execution_count": 1,
      "outputs": []
    },
    {
      "cell_type": "code",
      "source": [
        "def calculate_fee(hours_parked):\n",
        "  fee = 5 + (2.5 * hours_parked)\n",
        "  return fee\n",
        "\n",
        "\n",
        "\n",
        "\n",
        "hours_parked = int(input(\"Enter hours parked: \"))\n",
        "fee = calculate_fee(hours_parked)\n",
        "print(f\"Parking fee: ${fee}\")"
      ],
      "metadata": {
        "colab": {
          "base_uri": "https://localhost:8080/"
        },
        "id": "jXrOeC-aX5gU",
        "outputId": "427b0878-12cb-45e4-eef0-474803218f92"
      },
      "execution_count": 3,
      "outputs": [
        {
          "output_type": "stream",
          "name": "stdout",
          "text": [
            "Enter hours parked: 4\n",
            "Parking fee: $15.0\n"
          ]
        }
      ]
    }
  ]
}