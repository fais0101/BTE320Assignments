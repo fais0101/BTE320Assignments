{
  "nbformat": 4,
  "nbformat_minor": 0,
  "metadata": {
    "colab": {
      "provenance": [],
      "toc_visible": true,
      "authorship_tag": "ABX9TyN+uSmQdN3ddMAJ/uWmqAjV",
      "include_colab_link": true
    },
    "kernelspec": {
      "name": "python3",
      "display_name": "Python 3"
    },
    "language_info": {
      "name": "python"
    }
  },
  "cells": [
    {
      "cell_type": "markdown",
      "metadata": {
        "id": "view-in-github",
        "colab_type": "text"
      },
      "source": [
        "<a href=\"https://colab.research.google.com/github/fais0101/BTE320Assignments/blob/main/BTE320_in_class_assignments.ipynb\" target=\"_parent\"><img src=\"https://colab.research.google.com/assets/colab-badge.svg\" alt=\"Open In Colab\"/></a>"
      ]
    },
    {
      "cell_type": "markdown",
      "source": [
        "# **In Class Assignment 1**"
      ],
      "metadata": {
        "id": "K1uCQH_AqZt5"
      }
    },
    {
      "cell_type": "code",
      "execution_count": 16,
      "metadata": {
        "colab": {
          "base_uri": "https://localhost:8080/"
        },
        "id": "KMzCN0fkoXn8",
        "outputId": "71a00408-2e3d-4d2e-834b-679b53692414"
      },
      "outputs": [
        {
          "output_type": "stream",
          "name": "stdout",
          "text": [
            "Enter height: 5\n",
            "Enter radius: 10\n",
            "The area of the closed cylinder is 1256.6370614359173\n"
          ]
        }
      ],
      "source": [
        "import math\n",
        "height = int(input(\"Enter height: \"))\n",
        "radius = int(input(\"Enter radius: \"))\n",
        "#2pir(r+h)\n",
        "#2 * 2pir^2\n",
        "area = 2 * (2 * math.pi * (radius ** 2) )\n",
        "\n",
        "print(f\"The area of the closed cylinder is {area}\")\n"
      ]
    }
  ]
}